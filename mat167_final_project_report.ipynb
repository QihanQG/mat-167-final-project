{
  "nbformat": 4,
  "nbformat_minor": 0,
  "metadata": {
    "colab": {
      "provenance": []
    },
    "kernelspec": {
      "name": "python3",
      "display_name": "Python 3"
    },
    "language_info": {
      "name": "python"
    }
  },
  "cells": [
    {
      "cell_type": "markdown",
      "source": [
        "#### Notes and plots\n",
        "\n",
        "**Flagellum** is a whip-like structure used for cell movement, not a bacteria itself.\n",
        "\n",
        "\n",
        "Plot sources(figure 1 to 8)\n",
        "\n",
        "https://i.ibb.co/GvZXHZLs/figure1.png\n",
        "\n",
        "https://i.ibb.co/8LRCHrF2/figure2.png\n",
        "\n",
        "https://i.ibb.co/Jw7wWQtg/figure3.png\n",
        "\n",
        "\n",
        "https://i.ibb.co/8nFRy3VJ/figure4.png\n",
        "\n",
        "https://i.ibb.co/v4DVpczF/figure5.png\n",
        "\n",
        "https://i.ibb.co/vv12dTTR/figure6.png\n",
        "\n",
        "https://i.ibb.co/nsMmYRfK/figure7.png\n",
        "\n",
        "https://i.ibb.co/chN8Q9pg/figure8.png"
      ],
      "metadata": {
        "id": "DblR2GwyoMSz"
      }
    },
    {
      "cell_type": "markdown",
      "source": [
        "# **Introduction**\n",
        "\n",
        "Our project is PCA and Shape mode analysis. We are given **\"fluidE.mat** file, which contains\n",
        "\n",
        "**XX** and **YY**: Matrices of x-coordinate and y-coordinate of each point along the flagellum at every frame.The shapes of the falgellu are encoded in these two matrices.\n",
        "\n",
        "**space_scale**: Distance between adjacent tracked points in micrometers.\n",
        "\n",
        "**time_scape**: Time between video frames in seconds.\n",
        "\n",
        "\n",
        "Togetheter we can use these datas to understand the flagellar movement pattern(how flagellum shapes change over time)\n",
        "\n",
        "\n",
        "\n"
      ],
      "metadata": {
        "id": "P8cMdWyHoZgN"
      }
    },
    {
      "cell_type": "markdown",
      "source": [
        "# **Part (1)**\n",
        "\n",
        "Our first instruction is to visualize the  **raw** flagellum shapes changes over time.\n",
        "\n",
        "\n",
        "We first output the Dimensions:  $m$, the number spatial points, $n$ the number of time steps(points)\n",
        "\n",
        ">disp('Data:');\n",
        "\n",
        ">disp(['Number of spatial points: ', num2str(m)]);\n",
        "\n",
        ">disp(['Number of time points: ', num2str(n)]);\n",
        "\n",
        ">disp(['Space scale (\\mum): ', num2str(space_scale)]);\n",
        "\n",
        ">disp(['Time scale (seconds): ', num2str(time_scale)])\n",
        "\n",
        "Then  we plot the first 5 time steps. (note, we refer figure2 as 1 for explanation purpose).\n",
        "\n",
        "<img src=\"https://i.ibb.co/8LRCHrF2/figure2.png\" alt=\"figure2\" width=\"900\"/>\n",
        "\n",
        " We can also display the duration of the first 5 time steps by doing\n",
        "\n",
        " >disp(['Duration of the first 5 time steps: ', num2str(4 * time_scale), ' seconds']);\n",
        "\n",
        " And it outputs:\n",
        "\n",
        " > Duration of the first 5 time steps: 0.0066007 seconds\n",
        "\n",
        "\n",
        "This and the figure shows how the flagellum's shape changes over the first 5 frames in 6.6 ms. Each plotted curves represent 5 continuous or successive snapshots(time steps) of the flagellum shape in 6.6 milliseconds.\n",
        "\n",
        "\n",
        "Next we plot all 80 time steps of the flagellum shapes.\n",
        "\n",
        "<img src=\"https://i.ibb.co/GvZXHZLs/figure1.png\" alt=\"figure2\" width=\"900\"/>\n",
        "\n",
        "\n",
        "#### **Creating figures in matlab:**\n",
        "\n",
        "At any single frame (time $t$), the two vectors\n",
        "\n",
        "$$\n",
        "XX(:,i) = \\bigl[x_1, x_2, \\dots, x_m\\bigr]^T\n",
        "\\quad\\text{and}\\quad\n",
        "YY(:,i) = \\bigl[y_1, y_2, \\dots, y_m\\bigr]^T\n",
        "$$\n",
        "\n",
        "Give you $m$ discrete $(x_j,y_j)$ points along the flagellum. By plotting the sequence of points for a specific time step, and then drawing lines connecting them. This produces the curvy lines that represent the flagellum shape at time $t_i$.\n",
        "\n",
        "To do this in matlab we use this command\n",
        "\n",
        "> plot(XX(:,i), YY(:,i))\n",
        "\n",
        "This do what we described above, it takes sequence of points $(x_1,y_1),\\;(x_2,y_2),\\;\\dots,\\;(x_m,y_m)$  and draw straight line segments from $(x_j,y_j)$ to $(x_{j+1},y_{j+1})$ for $j=1\\ldots m-1$.\n",
        "\n",
        "Then we simply create 2 loops, one that loop through every (80) time steps. And one that loop through 5 time steps.\n"
      ],
      "metadata": {
        "id": "dMKSb-AmKH5T"
      }
    },
    {
      "cell_type": "markdown",
      "source": [
        "# **Part (2)**\n",
        "\n",
        "For part 2 we visualize the tangent angles of the flagellum over time.\n",
        "\n",
        "#### **Steps in matlab**\n",
        "\n",
        "For each pair of adjacent points $(x_j, y_j)$ and $(x_{j+1}, y_{j+1})$ at a given time step $t_i$:\n",
        "\n",
        "We calculate the slope of these two adjacent points: $$ \\frac{\\Delta y_j (t_i)}{\\Delta x_j (t_i) } = \\frac{y_{j+1} (t_i) - y_j (t_i) }{x_{j+1}(t_i) - x_j (t_i)}$$\n",
        "\n",
        "And then convert them into angle using atan2 which give us the tangent angle $\\phi(s_j, t_i) \\in (-\\pi,\\pi]$\n",
        "\n",
        "$$\n",
        "\\phi(s_j, t_i)  = \\operatorname{atan2}\\bigl(\\Delta y_j(t_i),\\ \\Delta x_j(t_i)\\bigr) \\color{grey} {\\equiv arctan\\left( \\frac{\\Delta y_j (t_i) }{\\Delta x_j (t_i) } \\right)}\n",
        " $$\n",
        "\n",
        "This gives the direction of the local tangent vector at segment $j$, time $t_i$.\n",
        "\n",
        "We repeat the previous steps for every time step $t_i$ for $i = 1,..,80$  and build the $(m-1)\\times n$ matrix $\\Phi$  with entries:\n",
        "\n",
        "$$\n",
        "  \\Phi_{j,i}  = \\phi(s_j, t_i)\n",
        "$$\n",
        "\n",
        "Thus the full matrix is:\n",
        "\n",
        "$$\n",
        "\\Phi =\n",
        "\\begin{bmatrix}\n",
        "\\phi(s_1, t_1) & \\phi(s_1, t_2) & \\cdots & \\phi(s_1, t_n) \\\\\n",
        "\\phi(s_2, t_1) & \\phi(s_2, t_2) & \\cdots & \\phi(s_2, t_n) \\\\\n",
        "\\vdots & \\vdots & \\ddots & \\vdots \\\\\n",
        "\\phi(s_{m-1}, t_1) & \\phi(s_{m-1}, t_2) & \\cdots & \\phi(s_{m-1}, t_n)\n",
        "\\end{bmatrix}\n",
        "$$\n",
        "\n",
        "Then we use `unwrap` on tangent angles  function to remove artificial jump of $\\pi$\n",
        "\n",
        "This matrix is then used to create the kymograph(figure3)\n",
        "\n",
        "<img src=\"https://i.ibb.co/Jw7wWQtg/figure3.png\" alt=\"figure2\" width=\"900\"/>\n",
        "\n"
      ],
      "metadata": {
        "id": "pBaehLRhxrFQ"
      }
    }
  ]
}